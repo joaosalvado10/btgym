{
 "cells": [
  {
   "cell_type": "code",
   "execution_count": 1,
   "metadata": {
    "collapsed": true
   },
   "outputs": [],
   "source": [
    "import os\n",
    "import backtrader as bt\n",
    "\n",
    "from btgym import BTgymEnv, BTgymDataset\n",
    "from btgym.strategy.observers import Reward, Position, NormPnL\n",
    "from btgym.algorithms import Launcher, PPO, Unreal\n",
    "\n",
    "from btgym.research import DevStrat_4_6\n",
    "\n",
    "from btgym.algorithms.policy import Aac1dPolicy"
   ]
  },
  {
   "cell_type": "code",
   "execution_count": null,
   "metadata": {
    "collapsed": true
   },
   "outputs": [],
   "source": [
    "# Under `DATASET` settings uncomment either synthetic data file (simple sine wave) - \n",
    "# solves it for less than 200K env. steps, \n",
    "# or: 1 month real EURUSD data file - solves it for about 14M env. steps (for vanilla A3C).\n",
    "#\n",
    "# Ignore `Data_master `reset()...` and `Dataset not ready...` warnings.\n",
    "#\n",
    "# To visualise training and results point tensorboard to: User_home/tmp/test_gym_a3c\n",
    "#\n",
    "# Refer to environment renderings to see actual trades, orders etc.\n",
    "#\n",
    "# Refer to `DevStrat_4_6` comments and Docs for state and reward shaping information.\n",
    "#\n",
    "# For UNREAL: enable aux. `Value Replay` task, `Pixel Change Control` task or both, \n",
    "# note more sample-efficient convergence.\n",
    "# It's currently not recommended to turn on 'Reward Prediction` task as it seems to hurt performance for BTgym;\n",
    "# maybe bug.\n",
    "# \n",
    "# Can use PPO trainer class instead of UNREAL with same params - it uses surrogate L^clip objective instead of\n",
    "# original AAC - experienced performance is nearly the same.\n",
    "#\n",
    "# Toy trading settings details for single episode:\n",
    "# Trading pair: EUR/USD\n",
    "# Initial cash: 2K USD, leverage 1:10, single stake size: 5K, can add position\n",
    "# Commission is set to imitate spread\n",
    "# Stop trading if lost 5% of initial amount (-100USD)\n",
    "# Stop trading if reached 10% profit (+200USD)\n",
    "# Profit is considered as `broker value` at trade episode end.\n",
    "# Episode start times sampled randomly from dataset date/time range in a way to ensure\n",
    "# contionious trade within a week, i.e. starts on fridays, holidays are excluded.\n",
    "# Trade maximum for 23 hours 55 mins, start trading in random time of day (single overnight is ok)\n",
    "# Actions are market orders only: sell, buy, close or do_nothing\n",
    "# Allowed to issue orders every 10th minute from beginning of episode tradetime"
   ]
  },
  {
   "cell_type": "code",
   "execution_count": 2,
   "metadata": {
    "collapsed": true
   },
   "outputs": [],
   "source": [
    "# Set backtesting engine parameters:\n",
    "\n",
    "MyCerebro = bt.Cerebro()\n",
    "\n",
    "MyCerebro.addstrategy(\n",
    "    DevStrat_4_6,\n",
    "    drawdown_call=5, # max % to loose, in percent of initial cash\n",
    "    target_call=10,  # max % to win, same\n",
    "    skip_frame=10,\n",
    ")\n",
    "# Set leveraged account:\n",
    "MyCerebro.broker.setcash(2000)\n",
    "MyCerebro.broker.setcommission(commission=0.0001, leverage=10.0) # commisssion to imitate spread\n",
    "MyCerebro.addsizer(bt.sizers.SizerFix, stake=5000,)  \n",
    "\n",
    "#MyCerebro.addanalyzer(bt.analyzers.DrawDown)\n",
    "\n",
    "# Visualisations for reward, position and PnL dynamics:\n",
    "MyCerebro.addobserver(Reward)\n",
    "MyCerebro.addobserver(Position)\n",
    "MyCerebro.addobserver(NormPnL)\n",
    "\n",
    "MyDataset = BTgymDataset(\n",
    "    #filename='.data/DAT_ASCII_EURUSD_M1_201703.csv',\n",
    "    #filename='./data/DAT_ASCII_EURUSD_M1_201704.csv',\n",
    "    filename='./data/test_sine_1min_period256_delta0002.csv',\n",
    "    start_weekdays={0, 1, 2, 3},\n",
    "    episode_duration={'days': 0, 'hours': 23, 'minutes': 55},\n",
    "    start_00=False,\n",
    "    time_gap={'hours': 6},\n",
    ")\n",
    "\n",
    "env_config = dict(\n",
    "    class_ref=BTgymEnv,\n",
    "    kwargs=dict(\n",
    "        dataset=MyDataset,\n",
    "        engine=MyCerebro,\n",
    "        render_modes=['episode', 'human','external'],\n",
    "        render_state_as_image=True,\n",
    "        render_ylabel='OHL_diff.',\n",
    "        render_size_episode=(12,8),\n",
    "        render_size_human=(9, 4),\n",
    "        render_size_state=(11, 3),\n",
    "        render_dpi=75,\n",
    "        port=5000,\n",
    "        data_port=4999,\n",
    "        connect_timeout=60,\n",
    "        verbose=0,  # better be 0\n",
    "    )\n",
    ")\n",
    "\n",
    "cluster_config = dict(\n",
    "    host='127.0.0.1',\n",
    "    port=12230,\n",
    "    num_workers=6,  # Set according CPU's available \n",
    "    num_ps=1,\n",
    "    num_envs=1,  # do not change yet\n",
    "    log_dir=os.path.expanduser('~/tmp/test_gym_unreal'),\n",
    ")\n",
    "\n",
    "policy_config = dict(\n",
    "    class_ref=Aac1dPolicy,\n",
    "    kwargs={}\n",
    ")\n",
    "\n",
    "trainer_config = dict(\n",
    "    class_ref=Unreal,\n",
    "    kwargs=dict(\n",
    "        opt_learn_rate=1e-4, # or random log-uniform range, values > 2e-4 can ruin training \n",
    "        opt_end_learn_rate=1e-5,\n",
    "        opt_decay_steps=100*10**6,\n",
    "        model_gamma=0.95,\n",
    "        model_gae_lambda=1.0,\n",
    "        model_beta=[0.05, 0.01], # Entropy reg, random log-uniform\n",
    "        rollout_length=20,\n",
    "        time_flat=False,\n",
    "        use_value_replay=True,\n",
    "        use_pixel_control=True,\n",
    "        use_reward_prediction=False,\n",
    "        rp_reward_threshold=0.3,\n",
    "        rp_sequence_size=4,\n",
    "        rp_lambda=0.01,\n",
    "        model_summary_freq=100,\n",
    "        episode_summary_freq=5,\n",
    "        env_render_freq=20,\n",
    "    )\n",
    ")"
   ]
  },
  {
   "cell_type": "code",
   "execution_count": 3,
   "metadata": {
    "scrolled": false
   },
   "outputs": [
    {
     "name": "stdout",
     "output_type": "stream",
     "text": [
      "</Users/muzikin/tmp/test_gym_unreal> already exists. Override[y/n]? y\n"
     ]
    },
    {
     "name": "stderr",
     "output_type": "stream",
     "text": [
      "[2017-11-24 18:22:44,185] Files in </Users/muzikin/tmp/test_gym_unreal> purged.\n"
     ]
    },
    {
     "name": "stdout",
     "output_type": "stream",
     "text": [
      "Press `Ctrl-C` or [Kernel]->[Interrupt] to stop training and close launcher.\n",
      "INFO:tensorflow:Starting queue runners.\n"
     ]
    },
    {
     "name": "stderr",
     "output_type": "stream",
     "text": [
      "[2017-11-24 18:23:02,370] Starting queue runners.\n"
     ]
    },
    {
     "name": "stdout",
     "output_type": "stream",
     "text": [
      "INFO:tensorflow:Starting queue runners.\n"
     ]
    },
    {
     "name": "stderr",
     "output_type": "stream",
     "text": [
      "[2017-11-24 18:23:02,496] worker_1: started training at step: 0\n",
      "[2017-11-24 18:23:02,491] Starting queue runners.\n"
     ]
    },
    {
     "name": "stdout",
     "output_type": "stream",
     "text": [
      "INFO:tensorflow:Starting queue runners.\n"
     ]
    },
    {
     "name": "stderr",
     "output_type": "stream",
     "text": [
      "[2017-11-24 18:23:02,605] Starting queue runners.\n",
      "[2017-11-24 18:23:02,648] worker_3: started training at step: 0\n",
      "[2017-11-24 18:23:02,714] worker_4: started training at step: 0\n"
     ]
    },
    {
     "name": "stdout",
     "output_type": "stream",
     "text": [
      "INFO:tensorflow:Starting queue runners.\n"
     ]
    },
    {
     "name": "stderr",
     "output_type": "stream",
     "text": [
      "[2017-11-24 18:23:02,731] Starting queue runners.\n",
      "[2017-11-24 18:23:02,841] worker_2: started training at step: 0\n"
     ]
    },
    {
     "name": "stdout",
     "output_type": "stream",
     "text": [
      "INFO:tensorflow:Starting queue runners.\n"
     ]
    },
    {
     "name": "stderr",
     "output_type": "stream",
     "text": [
      "[2017-11-24 18:23:02,847] Starting queue runners.\n",
      "[2017-11-24 18:23:02,937] worker_5: started training at step: 0\n",
      "[2017-11-24 18:23:04,479] Dataset not ready, waiting time left: 298 sec.\n",
      "[2017-11-24 18:23:04,638] Dataset not ready, waiting time left: 298 sec.\n",
      "[2017-11-24 18:23:04,711] Dataset not ready, waiting time left: 298 sec.\n",
      "[2017-11-24 18:23:04,832] Dataset not ready, waiting time left: 298 sec.\n",
      "[2017-11-24 18:23:04,936] Dataset not ready, waiting time left: 298 sec.\n"
     ]
    },
    {
     "name": "stdout",
     "output_type": "stream",
     "text": [
      "INFO:tensorflow:Starting standard services.\n"
     ]
    },
    {
     "name": "stderr",
     "output_type": "stream",
     "text": [
      "[2017-11-24 18:23:04,874] Starting standard services.\n"
     ]
    },
    {
     "name": "stdout",
     "output_type": "stream",
     "text": [
      "INFO:tensorflow:Saving checkpoint to path /Users/muzikin/tmp/test_gym_unreal/train/model.ckpt\n"
     ]
    },
    {
     "name": "stderr",
     "output_type": "stream",
     "text": [
      "[2017-11-24 18:23:05,609] Saving checkpoint to path /Users/muzikin/tmp/test_gym_unreal/train/model.ckpt\n"
     ]
    },
    {
     "name": "stdout",
     "output_type": "stream",
     "text": [
      "INFO:tensorflow:Starting queue runners.\n"
     ]
    },
    {
     "name": "stderr",
     "output_type": "stream",
     "text": [
      "[2017-11-24 18:23:05,609] Starting queue runners.\n"
     ]
    },
    {
     "name": "stdout",
     "output_type": "stream",
     "text": [
      "INFO:tensorflow:global/global_step/sec: 0\n"
     ]
    },
    {
     "name": "stderr",
     "output_type": "stream",
     "text": [
      "[2017-11-24 18:23:05,610] global/global_step/sec: 0\n",
      "[2017-11-24 18:23:05,683] worker_0: started training at step: 0\n",
      "[2017-11-24 18:23:05,694] Data_master `reset()` called prior to `reset_data()` with [possibly inconsistent] defaults.\n",
      "[2017-11-24 18:23:06,495] Dataset not ready, waiting time left: 296 sec.\n",
      "[2017-11-24 18:23:06,654] Dataset not ready, waiting time left: 296 sec.\n",
      "[2017-11-24 18:23:06,729] Dataset not ready, waiting time left: 296 sec.\n",
      "[2017-11-24 18:23:06,848] Dataset not ready, waiting time left: 296 sec.\n",
      "[2017-11-24 18:23:06,997] Dataset not ready, waiting time left: 296 sec.\n"
     ]
    },
    {
     "name": "stdout",
     "output_type": "stream",
     "text": [
      "INFO:tensorflow:global/global_step/sec: 180.34\n"
     ]
    },
    {
     "name": "stderr",
     "output_type": "stream",
     "text": [
      "[2017-11-24 18:25:05,606] global/global_step/sec: 180.34\n"
     ]
    },
    {
     "name": "stdout",
     "output_type": "stream",
     "text": [
      "INFO:tensorflow:global/global_step/sec: 238.827\n"
     ]
    },
    {
     "name": "stderr",
     "output_type": "stream",
     "text": [
      "[2017-11-24 18:27:05,610] global/global_step/sec: 238.827\n"
     ]
    },
    {
     "name": "stdout",
     "output_type": "stream",
     "text": [
      "INFO:tensorflow:Saving checkpoint to path /Users/muzikin/tmp/test_gym_unreal/train/model.ckpt\n"
     ]
    },
    {
     "name": "stderr",
     "output_type": "stream",
     "text": [
      "[2017-11-24 18:28:05,598] Saving checkpoint to path /Users/muzikin/tmp/test_gym_unreal/train/model.ckpt\n"
     ]
    },
    {
     "name": "stdout",
     "output_type": "stream",
     "text": [
      "INFO:tensorflow:global/global_step/sec: 244.84\n"
     ]
    },
    {
     "name": "stderr",
     "output_type": "stream",
     "text": [
      "[2017-11-24 18:29:05,606] global/global_step/sec: 244.84\n"
     ]
    },
    {
     "name": "stdout",
     "output_type": "stream",
     "text": [
      "INFO:tensorflow:global/global_step/sec: 241.827\n"
     ]
    },
    {
     "name": "stderr",
     "output_type": "stream",
     "text": [
      "[2017-11-24 18:31:05,609] global/global_step/sec: 241.827\n"
     ]
    },
    {
     "name": "stdout",
     "output_type": "stream",
     "text": [
      "INFO:tensorflow:Saving checkpoint to path /Users/muzikin/tmp/test_gym_unreal/train/model.ckpt\n"
     ]
    },
    {
     "name": "stderr",
     "output_type": "stream",
     "text": [
      "[2017-11-24 18:33:05,599] Saving checkpoint to path /Users/muzikin/tmp/test_gym_unreal/train/model.ckpt\n"
     ]
    },
    {
     "name": "stdout",
     "output_type": "stream",
     "text": [
      "INFO:tensorflow:global/global_step/sec: 246.006\n"
     ]
    },
    {
     "name": "stderr",
     "output_type": "stream",
     "text": [
      "[2017-11-24 18:33:05,606] global/global_step/sec: 246.006\n"
     ]
    },
    {
     "name": "stdout",
     "output_type": "stream",
     "text": [
      "INFO:tensorflow:global/global_step/sec: 251.498\n"
     ]
    },
    {
     "name": "stderr",
     "output_type": "stream",
     "text": [
      "[2017-11-24 18:35:05,608] global/global_step/sec: 251.498\n",
      "Process BTgymDataFeedServer-2:1:\n",
      "Process BTgymServer-6:1:\n",
      "Process BTgymServer-4:1:\n",
      "Process BTgymServer-3:1:\n",
      "Process DrawCerebro-2:2:124:\n",
      "Process BTgymServer-7:1:\n",
      "Traceback (most recent call last):\n",
      "  File \"/Users/muzikin/anaconda/envs/tensorforce/lib/python3.6/multiprocessing/process.py\", line 249, in _bootstrap\n",
      "    self.run()\n",
      "  File \"/Users/muzikin/Yandex.Disk.localized/work/btgym/btgym/dataserver.py\", line 115, in run\n",
      "    service_input = socket.recv_pyobj()\n",
      "  File \"/Users/muzikin/anaconda/envs/tensorforce/lib/python3.6/site-packages/zmq/sugar/socket.py\", line 491, in recv_pyobj\n",
      "    msg = self.recv(flags)\n",
      "  File \"zmq/backend/cython/socket.pyx\", line 693, in zmq.backend.cython.socket.Socket.recv (zmq/backend/cython/socket.c:7683)\n",
      "  File \"zmq/backend/cython/socket.pyx\", line 727, in zmq.backend.cython.socket.Socket.recv (zmq/backend/cython/socket.c:7460)\n",
      "  File \"zmq/backend/cython/socket.pyx\", line 145, in zmq.backend.cython.socket._recv_copy (zmq/backend/cython/socket.c:2344)\n",
      "  File \"zmq/backend/cython/checkrc.pxd\", line 12, in zmq.backend.cython.checkrc._check_rc (zmq/backend/cython/socket.c:9621)\n",
      "KeyboardInterrupt\n",
      "Traceback (most recent call last):\n",
      "  File \"/Users/muzikin/anaconda/envs/tensorforce/lib/python3.6/multiprocessing/process.py\", line 249, in _bootstrap\n",
      "    self.run()\n",
      "  File \"/Users/muzikin/Yandex.Disk.localized/work/btgym/btgym/server.py\", line 438, in run\n",
      "    episode = cerebro.run(stdstats=True, preload=False, oldbuysell=True)[0]\n",
      "  File \"/Users/muzikin/anaconda/envs/tensorforce/lib/python3.6/site-packages/backtrader/cerebro.py\", line 1073, in run\n",
      "    runstrat = self.runstrategies(iterstrat)\n",
      "  File \"/Users/muzikin/anaconda/envs/tensorforce/lib/python3.6/site-packages/backtrader/cerebro.py\", line 1235, in runstrategies\n",
      "    self._runnext(runstrats)\n",
      "  File \"/Users/muzikin/anaconda/envs/tensorforce/lib/python3.6/site-packages/backtrader/cerebro.py\", line 1478, in _runnext\n",
      "    drets.append(d.next(ticks=False))\n",
      "  File \"/Users/muzikin/anaconda/envs/tensorforce/lib/python3.6/site-packages/backtrader/feed.py\", line 404, in next\n",
      "    ret = self.load()\n",
      "  File \"/Users/muzikin/anaconda/envs/tensorforce/lib/python3.6/site-packages/backtrader/feed.py\", line 476, in load\n",
      "    _loadret = self._load()\n",
      "  File \"/Users/muzikin/anaconda/envs/tensorforce/lib/python3.6/site-packages/backtrader/feeds/pandafeed.py\", line 76, in _load\n",
      "    colidx = getattr(self.params, datafield)\n",
      "KeyboardInterrupt\n",
      "Traceback (most recent call last):\n",
      "  File \"/Users/muzikin/anaconda/envs/tensorforce/lib/python3.6/multiprocessing/process.py\", line 249, in _bootstrap\n",
      "    self.run()\n",
      "  File \"/Users/muzikin/Yandex.Disk.localized/work/btgym/btgym/server.py\", line 438, in run\n",
      "    episode = cerebro.run(stdstats=True, preload=False, oldbuysell=True)[0]\n",
      "  File \"/Users/muzikin/anaconda/envs/tensorforce/lib/python3.6/site-packages/backtrader/cerebro.py\", line 1073, in run\n",
      "    runstrat = self.runstrategies(iterstrat)\n",
      "Traceback (most recent call last):\n",
      "Traceback (most recent call last):\n",
      "  File \"/Users/muzikin/anaconda/envs/tensorforce/lib/python3.6/site-packages/backtrader/cerebro.py\", line 1235, in runstrategies\n",
      "    self._runnext(runstrats)\n",
      "  File \"/Users/muzikin/anaconda/envs/tensorforce/lib/python3.6/multiprocessing/process.py\", line 249, in _bootstrap\n",
      "    self.run()\n",
      "  File \"/Users/muzikin/anaconda/envs/tensorforce/lib/python3.6/multiprocessing/process.py\", line 249, in _bootstrap\n",
      "    self.run()\n",
      "  File \"/Users/muzikin/Yandex.Disk.localized/work/btgym/btgym/server.py\", line 438, in run\n",
      "    episode = cerebro.run(stdstats=True, preload=False, oldbuysell=True)[0]\n",
      "  File \"/Users/muzikin/anaconda/envs/tensorforce/lib/python3.6/site-packages/backtrader/cerebro.py\", line 1564, in _runnext\n",
      "    strat._next()\n",
      "  File \"/Users/muzikin/anaconda/envs/tensorforce/lib/python3.6/site-packages/backtrader/cerebro.py\", line 1073, in run\n",
      "    runstrat = self.runstrategies(iterstrat)\n",
      "  File \"/Users/muzikin/Yandex.Disk.localized/work/btgym/btgym/server.py\", line 438, in run\n",
      "    episode = cerebro.run(stdstats=True, preload=False, oldbuysell=True)[0]\n",
      "  File \"/Users/muzikin/anaconda/envs/tensorforce/lib/python3.6/site-packages/backtrader/strategy.py\", line 327, in _next\n",
      "    self._next_analyzers(minperstatus)\n",
      "  File \"/Users/muzikin/anaconda/envs/tensorforce/lib/python3.6/site-packages/backtrader/cerebro.py\", line 1235, in runstrategies\n",
      "    self._runnext(runstrats)\n",
      "  File \"/Users/muzikin/anaconda/envs/tensorforce/lib/python3.6/site-packages/backtrader/cerebro.py\", line 1073, in run\n",
      "    runstrat = self.runstrategies(iterstrat)\n",
      "  File \"/Users/muzikin/anaconda/envs/tensorforce/lib/python3.6/site-packages/backtrader/strategy.py\", line 361, in _next_analyzers\n",
      "    analyzer._next()\n",
      "  File \"/Users/muzikin/anaconda/envs/tensorforce/lib/python3.6/site-packages/backtrader/cerebro.py\", line 1564, in _runnext\n",
      "    strat._next()\n",
      "  File \"/Users/muzikin/anaconda/envs/tensorforce/lib/python3.6/site-packages/backtrader/cerebro.py\", line 1235, in runstrategies\n",
      "    self._runnext(runstrats)\n",
      "  File \"/Users/muzikin/anaconda/envs/tensorforce/lib/python3.6/site-packages/backtrader/analyzer.py\", line 188, in _next\n",
      "    self.next()\n",
      "  File \"/Users/muzikin/anaconda/envs/tensorforce/lib/python3.6/site-packages/backtrader/strategy.py\", line 327, in _next\n",
      "    self._next_analyzers(minperstatus)\n",
      "  File \"/Users/muzikin/anaconda/envs/tensorforce/lib/python3.6/site-packages/backtrader/cerebro.py\", line 1564, in _runnext\n",
      "    strat._next()\n",
      "  File \"/Users/muzikin/Yandex.Disk.localized/work/btgym/btgym/server.py\", line 101, in next\n",
      "    state = self.strategy.get_state()\n",
      "  File \"/Users/muzikin/anaconda/envs/tensorforce/lib/python3.6/site-packages/backtrader/strategy.py\", line 361, in _next_analyzers\n",
      "    analyzer._next()\n",
      "  File \"/Users/muzikin/anaconda/envs/tensorforce/lib/python3.6/site-packages/backtrader/strategy.py\", line 327, in _next\n",
      "    self._next_analyzers(minperstatus)\n",
      "  File \"/Users/muzikin/Yandex.Disk.localized/work/btgym/btgym/research/strategy_4.py\", line 119, in get_state\n",
      "    self.update_sliding_stat()\n",
      "  File \"/Users/muzikin/anaconda/envs/tensorforce/lib/python3.6/site-packages/backtrader/strategy.py\", line 361, in _next_analyzers\n",
      "    analyzer._next()\n",
      "  File \"/Users/muzikin/anaconda/envs/tensorforce/lib/python3.6/site-packages/backtrader/analyzer.py\", line 188, in _next\n",
      "    self.next()\n",
      "  File \"/Users/muzikin/Yandex.Disk.localized/work/btgym/btgym/strategy/base.py\", line 212, in update_sliding_stat\n",
      "    self.p.target_call,\n",
      "  File \"/Users/muzikin/Yandex.Disk.localized/work/btgym/btgym/server.py\", line 92, in next\n",
      "    self.info_list.append(self.strategy.get_info())\n",
      "  File \"/Users/muzikin/anaconda/envs/tensorforce/lib/python3.6/site-packages/backtrader/analyzer.py\", line 188, in _next\n",
      "    self.next()\n",
      "  File \"/Users/muzikin/Yandex.Disk.localized/work/btgym/btgym/strategy/utils.py\", line 40, in norm_value\n",
      "    x = (x / start_value - 1) * 100\n",
      "  File \"/Users/muzikin/Yandex.Disk.localized/work/btgym/btgym/strategy/base.py\", line 341, in get_info\n",
      "    time=self.data.datetime.datetime(),\n",
      "  File \"/Users/muzikin/Yandex.Disk.localized/work/btgym/btgym/server.py\", line 92, in next\n",
      "    self.info_list.append(self.strategy.get_info())\n",
      "KeyboardInterrupt\n",
      "  File \"/Users/muzikin/Yandex.Disk.localized/work/btgym/btgym/strategy/base.py\", line 341, in get_info\n",
      "    time=self.data.datetime.datetime(),\n",
      "  File \"/Users/muzikin/anaconda/envs/tensorforce/lib/python3.6/site-packages/backtrader/linebuffer.py\", line 388, in datetime\n",
      "    tz=tz or self._tz, naive=naive)\n",
      "Process BTgymServer-5:1:\n",
      "  File \"/Users/muzikin/anaconda/envs/tensorforce/lib/python3.6/site-packages/backtrader/linebuffer.py\", line 388, in datetime\n",
      "    tz=tz or self._tz, naive=naive)\n",
      "  File \"/Users/muzikin/anaconda/envs/tensorforce/lib/python3.6/site-packages/backtrader/utils/dateintern.py\", line 165, in num2date\n",
      "    ix = int(x)\n",
      "  File \"/Users/muzikin/anaconda/envs/tensorforce/lib/python3.6/site-packages/backtrader/utils/dateintern.py\", line 165, in num2date\n",
      "    ix = int(x)\n",
      "KeyboardInterrupt\n",
      "KeyboardInterrupt\n",
      "Traceback (most recent call last):\n",
      "  File \"/Users/muzikin/anaconda/envs/tensorforce/lib/python3.6/multiprocessing/process.py\", line 249, in _bootstrap\n",
      "    self.run()\n"
     ]
    },
    {
     "name": "stderr",
     "output_type": "stream",
     "text": [
      "  File \"/Users/muzikin/Yandex.Disk.localized/work/btgym/btgym/server.py\", line 458, in run\n",
      "    gc.collect()\n",
      "KeyboardInterrupt\n",
      "Traceback (most recent call last):\n",
      "  File \"/Users/muzikin/anaconda/envs/tensorforce/lib/python3.6/multiprocessing/process.py\", line 249, in _bootstrap\n",
      "    self.run()\n",
      "  File \"/Users/muzikin/Yandex.Disk.localized/work/btgym/btgym/rendering/plotter.py\", line 73, in run\n",
      "    figfilename='_tmp_btgym_render.png',\n",
      "  File \"/Users/muzikin/anaconda/envs/tensorforce/lib/python3.6/site-packages/backtrader/cerebro.py\", line 941, in plot\n",
      "    tight=tight)\n",
      "  File \"/Users/muzikin/Yandex.Disk.localized/work/btgym/btgym/rendering/plotter.py\", line 45, in savefig\n",
      "    fig.canvas.draw()\n",
      "  File \"/Users/muzikin/anaconda/envs/tensorforce/lib/python3.6/site-packages/matplotlib/backends/backend_agg.py\", line 464, in draw\n",
      "    self.figure.draw(self.renderer)\n",
      "  File \"/Users/muzikin/anaconda/envs/tensorforce/lib/python3.6/site-packages/matplotlib/artist.py\", line 63, in draw_wrapper\n",
      "    draw(artist, renderer, *args, **kwargs)\n",
      "  File \"/Users/muzikin/anaconda/envs/tensorforce/lib/python3.6/site-packages/matplotlib/figure.py\", line 1144, in draw\n",
      "    renderer, self, dsu, self.suppressComposite)\n",
      "  File \"/Users/muzikin/anaconda/envs/tensorforce/lib/python3.6/site-packages/matplotlib/image.py\", line 139, in _draw_list_compositing_images\n",
      "    a.draw(renderer)\n",
      "  File \"/Users/muzikin/anaconda/envs/tensorforce/lib/python3.6/site-packages/matplotlib/artist.py\", line 63, in draw_wrapper\n",
      "    draw(artist, renderer, *args, **kwargs)\n",
      "  File \"/Users/muzikin/anaconda/envs/tensorforce/lib/python3.6/site-packages/matplotlib/axes/_base.py\", line 2426, in draw\n",
      "    mimage._draw_list_compositing_images(renderer, self, dsu)\n",
      "  File \"/Users/muzikin/anaconda/envs/tensorforce/lib/python3.6/site-packages/matplotlib/image.py\", line 139, in _draw_list_compositing_images\n",
      "    a.draw(renderer)\n",
      "  File \"/Users/muzikin/anaconda/envs/tensorforce/lib/python3.6/site-packages/matplotlib/artist.py\", line 63, in draw_wrapper\n",
      "    draw(artist, renderer, *args, **kwargs)\n",
      "  File \"/Users/muzikin/anaconda/envs/tensorforce/lib/python3.6/site-packages/matplotlib/axis.py\", line 1136, in draw\n",
      "    ticks_to_draw = self._update_ticks(renderer)\n",
      "  File \"/Users/muzikin/anaconda/envs/tensorforce/lib/python3.6/site-packages/matplotlib/axis.py\", line 969, in _update_ticks\n",
      "    tick_tups = [t for t in self.iter_ticks()]\n",
      "  File \"/Users/muzikin/anaconda/envs/tensorforce/lib/python3.6/site-packages/matplotlib/axis.py\", line 969, in <listcomp>\n",
      "    tick_tups = [t for t in self.iter_ticks()]\n",
      "  File \"/Users/muzikin/anaconda/envs/tensorforce/lib/python3.6/site-packages/matplotlib/axis.py\", line 916, in iter_ticks\n",
      "    for i, val in enumerate(majorLocs)]\n",
      "  File \"/Users/muzikin/anaconda/envs/tensorforce/lib/python3.6/site-packages/matplotlib/axis.py\", line 916, in <listcomp>\n",
      "    for i, val in enumerate(majorLocs)]\n",
      "  File \"/Users/muzikin/anaconda/envs/tensorforce/lib/python3.6/site-packages/backtrader/plot/locator.py\", line 247, in __call__\n",
      "    return super(AutoDateFormatter, self).__call__(ix, pos)\n",
      "  File \"/Users/muzikin/anaconda/envs/tensorforce/lib/python3.6/site-packages/matplotlib/dates.py\", line 696, in __call__\n",
      "    result = self._formatter(x, pos)\n",
      "  File \"/Users/muzikin/anaconda/envs/tensorforce/lib/python3.6/site-packages/matplotlib/dates.py\", line 467, in __call__\n",
      "    return self.strftime(dt, self.fmt)\n",
      "  File \"/Users/muzikin/anaconda/envs/tensorforce/lib/python3.6/site-packages/matplotlib/dates.py\", line 571, in strftime\n",
      "    return cbook.unicode_safe(dt.strftime(fmt))\n",
      "KeyboardInterrupt\n"
     ]
    }
   ],
   "source": [
    "launcher = Launcher(\n",
    "    cluster_config=cluster_config,\n",
    "    env_config=env_config,\n",
    "    trainer_config=trainer_config,\n",
    "    policy_config=policy_config,\n",
    "    test_mode=False,\n",
    "    max_env_steps=100*10**6,\n",
    "    root_random_seed=0,\n",
    "    purge_previous=1,  # ask to override previously saved model and logs\n",
    "    verbose=0  # 0 or 1\n",
    ")\n",
    "\n",
    "# Train it:\n",
    "launcher.run()"
   ]
  },
  {
   "cell_type": "code",
   "execution_count": null,
   "metadata": {
    "collapsed": true
   },
   "outputs": [],
   "source": [
    ""
   ]
  }
 ],
 "metadata": {
  "kernelspec": {
   "display_name": "Python 3",
   "language": "python",
   "name": "python3"
  },
  "language_info": {
   "codemirror_mode": {
    "name": "ipython",
    "version": 3.0
   },
   "file_extension": ".py",
   "mimetype": "text/x-python",
   "name": "python",
   "nbconvert_exporter": "python",
   "pygments_lexer": "ipython3",
   "version": "3.6.0"
  }
 },
 "nbformat": 4,
 "nbformat_minor": 0
}